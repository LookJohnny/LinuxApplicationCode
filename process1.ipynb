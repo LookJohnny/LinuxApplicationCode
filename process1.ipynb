{
 "cells": [
  {
   "cell_type": "code",
   "execution_count": 3,
   "id": "initial_id",
   "metadata": {
    "collapsed": true,
    "ExecuteTime": {
     "end_time": "2024-04-19T02:30:23.222285Z",
     "start_time": "2024-04-19T02:28:34.546244Z"
    }
   },
   "outputs": [
    {
     "name": "stdout",
     "output_type": "stream",
     "text": [
      "          client                 hostname                      alias_list  \\\n",
      "0   5.123.144.95             5.123.144.95          [Errno 1] Unknown host   \n",
      "1   5.122.76.187             5.122.76.187          [Errno 1] Unknown host   \n",
      "2   5.215.249.99             5.215.249.99          [Errno 1] Unknown host   \n",
      "3  31.56.102.211  31-56-102-211.shatel.ir  ['211.102.56.31.in-addr.arpa']   \n",
      "4  5.123.166.223            5.123.166.223          [Errno 1] Unknown host   \n",
      "\n",
      "        address_list  \n",
      "0                NaN  \n",
      "1                NaN  \n",
      "2                NaN  \n",
      "3  ['31.56.102.211']  \n",
      "4                NaN  \n"
     ]
    }
   ],
   "source": [
    "import pandas as pd\n",
    "import spacy\n",
    "\n",
    "# Load the English model from spaCy with unnecessary components disabled for efficiency\n",
    "nlp = spacy.load('en_core_web_sm', disable=['parser', 'lemmatizer'])\n",
    "\n",
    "# Load the dataset from a CSV file\n",
    "data = pd.read_csv('client_hostname.csv')\n",
    "\n",
    "# Define a function to anonymize hostnames using spaCy's pipe method for batch processing\n",
    "def batch_anonymize(data, batch_size=1000):\n",
    "    # Ensure all data in 'hostname' column are treated as strings\n",
    "    texts = data['hostname'].astype(str)\n",
    "    anonymized_texts = []\n",
    "\n",
    "    # Process the data in batches to improve performance\n",
    "    for doc in nlp.pipe(texts, batch_size=batch_size):\n",
    "        anonymized_text = doc.text\n",
    "        # Check each recognized entity and replace organizations and geo-political entities with '[ANONYMIZED]'\n",
    "        for ent in doc.ents:\n",
    "            if ent.label_ in ['ORG', 'GPE']:\n",
    "                anonymized_text = anonymized_text.replace(ent.text, '[ANONYMIZED]')\n",
    "        anonymized_texts.append(anonymized_text)\n",
    "    \n",
    "    return anonymized_texts\n",
    "\n",
    "# Apply the anonymization function to the 'hostname' column\n",
    "data['hostname'] = batch_anonymize(data)\n",
    "# Save the anonymized data back to a CSV file\n",
    "data.to_csv('anonymized_client_hostname.csv', index=False)\n",
    "# Print the first few rows of the anonymized data to verify the changes\n",
    "print(data.head())\n"
   ]
  },
  {
   "cell_type": "code",
   "outputs": [
    {
     "data": {
      "text/plain": "'\\n1. Is it possible to anonymize the dataset using NLP?\\nYes, it is feasible to anonymize a dataset using NLP. By leveraging NLP libraries like spaCy to identify and replace sensitive information (such as personal names, geographic locations, or organization names) in the text, we can effectively remove or obscure personally identifiable information (PII) from the data.\\n\\n2. Does it ‘successfully’ anonymize?\\nFrom the output examples you provided, where original data contains potential PII (e.g., the hostname includes shatel.ir), NLP processing allows us to replace these potential PII elements with \"[ANONYMIZED]\" or another generic marker to achieve anonymization. However, the success of anonymization depends on the accuracy and coverage of the NLP model. In some cases, if the NLP model fails to correctly identify all PII, the anonymization might not be complete.\\n\\n3. How easy is it to use NLP?\\nThe difficulty of using NLP technologies depends on the complexity of the task at hand and the background knowledge of the developer. For basic entity recognition and text manipulation, modern NLP libraries such as spaCy and NLTK provide relatively user-friendly interfaces and extensive documentation. However, for highly customized or complex processing scenarios, using NLP may require deeper technical insights and experience.\\n\\n4. Does it make sense to use NLP?\\nUsing NLP makes sense for scenarios where there is a need to remove PII from textual data. NLP provides an automated method to identify and process sensitive information in text, which is crucial for data protection and privacy security. Moreover, automated NLP processing significantly enhances the efficiency of handling large volumes of data, reducing the need for manual editing and review.\\n\\n5. Are the available libraries good enough?\\nCurrent NLP libraries, such as spaCy, NLTK, and transformers, perform well across a wide range of languages and domains, supporting a broad spectrum of NLP tasks from basic part-of-speech tagging to complex named entity recognition and sentiment analysis. These libraries are continuously being optimized and updated for performance and functionality, meeting the needs of most text processing requirements. However, for specific applications or very particular linguistic environments, further customization or additional training data might be needed to optimize outcomes.\\n'"
     },
     "execution_count": 4,
     "metadata": {},
     "output_type": "execute_result"
    }
   ],
   "source": [
    "\"\"\"\n",
    "1. Is it possible to anonymize the dataset using NLP?\n",
    "Yes, it is feasible to anonymize a dataset using NLP. By leveraging NLP libraries like spaCy to identify and replace sensitive information (such as personal names, geographic locations, or organization names) in the text, we can effectively remove or obscure personally identifiable information (PII) from the data.\n",
    "\n",
    "2. Does it ‘successfully’ anonymize?\n",
    "From the output examples you provided, where original data contains potential PII (e.g., the hostname includes shatel.ir), NLP processing allows us to replace these potential PII elements with \"[ANONYMIZED]\" or another generic marker to achieve anonymization. However, the success of anonymization depends on the accuracy and coverage of the NLP model. In some cases, if the NLP model fails to correctly identify all PII, the anonymization might not be complete.\n",
    "\n",
    "3. How easy is it to use NLP?\n",
    "The difficulty of using NLP technologies depends on the complexity of the task at hand and the background knowledge of the developer. For basic entity recognition and text manipulation, modern NLP libraries such as spaCy and NLTK provide relatively user-friendly interfaces and extensive documentation. However, for highly customized or complex processing scenarios, using NLP may require deeper technical insights and experience.\n",
    "\n",
    "4. Does it make sense to use NLP?\n",
    "Using NLP makes sense for scenarios where there is a need to remove PII from textual data. NLP provides an automated method to identify and process sensitive information in text, which is crucial for data protection and privacy security. Moreover, automated NLP processing significantly enhances the efficiency of handling large volumes of data, reducing the need for manual editing and review.\n",
    "\n",
    "5. Are the available libraries good enough?\n",
    "Current NLP libraries, such as spaCy, NLTK, and transformers, perform well across a wide range of languages and domains, supporting a broad spectrum of NLP tasks from basic part-of-speech tagging to complex named entity recognition and sentiment analysis. These libraries are continuously being optimized and updated for performance and functionality, meeting the needs of most text processing requirements. However, for specific applications or very particular linguistic environments, further customization or additional training data might be needed to optimize outcomes.\n",
    "\"\"\""
   ],
   "metadata": {
    "collapsed": false,
    "ExecuteTime": {
     "end_time": "2024-04-19T02:30:23.306154Z",
     "start_time": "2024-04-19T02:30:23.223445Z"
    }
   },
   "id": "7cb1995b2758cccc",
   "execution_count": 4
  }
 ],
 "metadata": {
  "kernelspec": {
   "display_name": "Python 3",
   "language": "python",
   "name": "python3"
  },
  "language_info": {
   "codemirror_mode": {
    "name": "ipython",
    "version": 2
   },
   "file_extension": ".py",
   "mimetype": "text/x-python",
   "name": "python",
   "nbconvert_exporter": "python",
   "pygments_lexer": "ipython2",
   "version": "2.7.6"
  }
 },
 "nbformat": 4,
 "nbformat_minor": 5
}
